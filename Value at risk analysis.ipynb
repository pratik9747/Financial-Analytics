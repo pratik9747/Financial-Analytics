{
 "cells": [
  {
   "cell_type": "markdown",
   "id": "cbae38e4",
   "metadata": {},
   "source": [
    "# Implement Value at Risk & Conditional Value at Risk using:    \n",
    "Historical Method    \n",
    "Parametric Method (Variance-Covariance)\n",
    "& Monte Carlo Method"
   ]
  },
  {
   "cell_type": "markdown",
   "id": "73d41325",
   "metadata": {},
   "source": [
    "First let’s import the dependencies and get the data! We also assign random weightings to the given stock portfoio. "
   ]
  },
  {
   "cell_type": "code",
   "execution_count": 1,
   "id": "f21dea77",
   "metadata": {},
   "outputs": [],
   "source": [
    "import pandas as pd\n",
    "import numpy as np\n",
    "import datetime as dt\n",
    "from pandas_datareader import data as pdr\n",
    "from scipy.stats import norm, t\n",
    "import matplotlib.pyplot as plt\n",
    "import numpy as np\n",
    "import pandas as pd\n",
    "import yfinance as yf\n",
    "yf.pdr_override()\n",
    "from pandas_datareader import data as wb"
   ]
  },
  {
   "cell_type": "code",
   "execution_count": null,
   "id": "d80ccb54",
   "metadata": {},
   "outputs": [],
   "source": [
    "# Import data\n",
    "def getData(stocks, start, end):\n",
    "    stockData = pdr.get_data_yahoo(stocks, start=start, end=end)\n",
    "    stockData = stockData['Close']\n",
    "    returns = stockData.pct_change()\n",
    "    meanReturns = returns.mean()\n",
    "    covMatrix = returns.cov()\n",
    "    return returns, meanReturns, covMatrix\n",
    "\n",
    "# Portfolio Performance\n",
    "def portfolioPerformance(weights, meanReturns, covMatrix, Time):\n",
    "    returns = np.sum(meanReturns*weights)*Time\n",
    "    std = np.sqrt( np.dot(weights.T, np.dot(covMatrix, weights)) ) * np.sqrt(Time)\n",
    "    return returns, std\n",
    "\n",
    "stockList = ['INFY', 'TCS', 'HCLTECH', 'ZEEL', 'BHARTIARTL', 'WIPRO']\n",
    "stocks = [stock+'.NS' for stock in stockList]\n",
    "\n",
    "endDate = dt.datetime.now()\n",
    "startDate = endDate - dt.timedelta(days=2500)\n",
    "\n",
    "returns, meanReturns, covMatrix = getData(stocks, start=startDate, end=endDate)\n",
    "returns = returns.dropna()\n",
    "\n",
    "weights = np.random.random(len(returns.columns))\n",
    "weights /= np.sum(weights)\n",
    "\n",
    "returns['portfolio'] = returns.dot(weights)"
   ]
  },
  {
   "cell_type": "markdown",
   "id": "93b9c732",
   "metadata": {},
   "source": [
    "Historical VaR\n",
    "Here we make no assumptions about the distribution of returns.\n",
    "we want to import\n",
    "\n",
    "alpha which is our confidence level now\n",
    "\n",
    "we're going to set this at 5"
   ]
  },
  {
   "cell_type": "code",
   "execution_count": null,
   "id": "4d3f1ac6",
   "metadata": {},
   "outputs": [],
   "source": [
    "def historicalVaR(returns, alpha=5):\n",
    "    \"\"\"\n",
    "    Read in a pandas dataframe of returns / a pandas series of returns\n",
    "    Output the percentile of the distribution at the given alpha confidence level\n",
    "    \"\"\"\n",
    "    if isinstance(returns, pd.Series):\n",
    "        return np.percentile(returns, alpha)\n",
    "\n",
    "    # A passed user-defined-function will be passed a Series for evaluation.\n",
    "    elif isinstance(returns, pd.DataFrame):\n",
    "        return returns.aggregate(historicalVaR, alpha=alpha)\n",
    "\n",
    "    else:\n",
    "        raise TypeError(\"Expected returns to be dataframe or series\")\n",
    "\n",
    "def historicalCVaR(returns, alpha=5):\n",
    "    \"\"\"\n",
    "    Read in a pandas dataframe of returns / a pandas series of returns\n",
    "    Output the CVaR for dataframe / series\n",
    "    \"\"\"\n",
    "    if isinstance(returns, pd.Series):\n",
    "        belowVaR = returns <= historicalVaR(returns, alpha=alpha)\n",
    "        return returns[belowVaR].mean()\n",
    "\n",
    "    # A passed user-defined-function will be passed a Series for evaluation.\n",
    "    elif isinstance(returns, pd.DataFrame):\n",
    "        return returns.aggregate(historicalCVaR, alpha=alpha)\n",
    "\n",
    "    else:\n",
    "        raise TypeError(\"Expected returns to be dataframe or series\")\n",
    "\n",
    "# 250 days\n",
    "Time = 10\n",
    "\n",
    "hVaR = -historicalVaR(returns['portfolio'], alpha=5)*np.sqrt(Time)\n",
    "hCVaR = -historicalCVaR(returns['portfolio'], alpha=5)*np.sqrt(Time)\n",
    "pRet, pStd = portfolioPerformance(weights, meanReturns, covMatrix, Time)\n",
    "\n",
    "InitialInvestment = 100000\n",
    "print('Expected Portfolio Return:      ', round(InitialInvestment*pRet,2))\n",
    "print('Value at Risk 95th CI    :      ', round(InitialInvestment*hVaR,2))\n",
    "print('Conditional VaR 95th CI  :      ', round(InitialInvestment*hCVaR,2))"
   ]
  },
  {
   "cell_type": "markdown",
   "id": "f1f81493",
   "metadata": {},
   "source": [
    "At the 95th confidence interval, \n",
    "we're happy that \n",
    "we're not going to lose any more than Var figure in the days(Time)\n",
    "historically with this portfolio in the fifth percentile"
   ]
  },
  {
   "cell_type": "markdown",
   "id": "1002471f",
   "metadata": {},
   "source": [
    "Parametric VaR\n",
    "Here we make an assumption on the distribution of returns abd use the historical portfolio returns and standard deviations (estimates) to define parameters for the model. Here we have implemented two parametric VaR models:\n",
    "\n",
    "Normal distribution\n",
    "& t-distribution (fatter tails)"
   ]
  },
  {
   "cell_type": "code",
   "execution_count": null,
   "id": "05ec8655",
   "metadata": {},
   "outputs": [],
   "source": []
  },
  {
   "cell_type": "code",
   "execution_count": null,
   "id": "1a7addf4",
   "metadata": {},
   "outputs": [],
   "source": [
    "def var_parametric(portofolioReturns, portfolioStd, distribution='normal', alpha=5, dof=6):\n",
    "    # because the distribution is symmetric\n",
    "    if distribution == 'normal':\n",
    "        VaR = norm.ppf(1-alpha/100)*portfolioStd - portofolioReturns\n",
    "    elif distribution == 't-distribution':\n",
    "        nu = dof\n",
    "        VaR = np.sqrt((nu-2)/nu) * t.ppf(1-alpha/100, nu) * portfolioStd - portofolioReturns\n",
    "    else:\n",
    "        raise TypeError(\"Expected distribution type 'normal'/'t-distribution'\")\n",
    "    return VaR\n",
    "\n",
    "def cvar_parametric(portofolioReturns, portfolioStd, distribution='normal', alpha=5, dof=6):\n",
    "    if distribution == 'normal':\n",
    "        CVaR = (alpha/100)**-1 * norm.pdf(norm.ppf(alpha/100))*portfolioStd - portofolioReturns\n",
    "    elif distribution == 't-distribution':\n",
    "        nu = dof\n",
    "        xanu = t.ppf(alpha/100, nu)\n",
    "        CVaR = -1/(alpha/100) * (1-nu)**(-1) * (nu-2+xanu**2) * t.pdf(xanu, nu) * portfolioStd - portofolioReturns\n",
    "    else:\n",
    "        raise TypeError(\"Expected distribution type 'normal'/'t-distribution'\")\n",
    "    return CVaR\n",
    "\n",
    "normVaR = var_parametric(pRet, pStd)\n",
    "normCVaR = cvar_parametric(pRet, pStd)\n",
    "\n",
    "tVaR = var_parametric(pRet, pStd, distribution='t-distribution')\n",
    "tCVaR = cvar_parametric(pRet, pStd, distribution='t-distribution')\n",
    "\n",
    "print(\"Normal VaR 95th CI       :      \", round(InitialInvestment*normVaR,2))\n",
    "print(\"Normal CVaR 95th CI      :      \", round(InitialInvestment*normCVaR,2))\n",
    "print(\"t-dist VaR 95th CI       :      \", round(InitialInvestment*tVaR,2))\n",
    "print(\"t-dist CVaR 95th CI      :      \", round(InitialInvestment*tCVaR,2))"
   ]
  },
  {
   "cell_type": "markdown",
   "id": "5adc10d2",
   "metadata": {},
   "source": [
    "Monte Carlo VaR & CVaR\n",
    "In this section we use a Monte Carlo simulation of a stock portfolio and then use the functions for historical VaR and CVaR to calculate our risk parameters.\n",
    "\n",
    "The main advantage here is we could define individual models/stock dynamics for individual assets. This can be very powerful!"
   ]
  },
  {
   "cell_type": "code",
   "execution_count": null,
   "id": "bf664c0e",
   "metadata": {},
   "outputs": [],
   "source": [
    "# Monte Carlo Method\n",
    "mc_sims = 500 # number of simulations\n",
    "T = 10 #timeframe in days\n",
    "\n",
    "meanM = np.full(shape=(T, len(weights)), fill_value=meanReturns)\n",
    "meanM = meanM.T\n",
    "\n",
    "portfolio_sims = np.full(shape=(T, mc_sims), fill_value=0.0)\n",
    "\n",
    "initialPortfolio = 100000\n",
    "\n",
    "for m in range(0, mc_sims):\n",
    "    # MC loops\n",
    "    Z = np.random.normal(size=(T, len(weights)))\n",
    "    L = np.linalg.cholesky(covMatrix)\n",
    "    dailyReturns = meanM + np.inner(L, Z)\n",
    "    portfolio_sims[:,m] = np.cumprod(np.inner(weights, dailyReturns.T)+1)*initialPortfolio"
   ]
  },
  {
   "cell_type": "code",
   "execution_count": null,
   "id": "931d6a40",
   "metadata": {},
   "outputs": [],
   "source": [
    "plt.plot(portfolio_sims)\n",
    "plt.ylabel('Portfolio Value')\n",
    "plt.xlabel('Days')\n",
    "plt.title('MC simulation of a stock portfolio')\n",
    "plt.show"
   ]
  },
  {
   "cell_type": "code",
   "execution_count": null,
   "id": "2cfdbb7b",
   "metadata": {},
   "outputs": [],
   "source": [
    "def mcVaR(returns, alpha=5):\n",
    "    \"\"\" Input: pandas series of returns\n",
    "        Output: percentile on return distribution to a given confidence level alpha\n",
    "    \"\"\"\n",
    "    if isinstance(returns, pd.Series):\n",
    "        return np.percentile(returns, alpha)\n",
    "    else:\n",
    "        raise TypeError(\"Expected a pandas data series.\")\n",
    "\n",
    "def mcCVaR(returns, alpha=5):\n",
    "    \"\"\" Input: pandas series of returns\n",
    "        Output: CVaR or Expected Shortfall to a given confidence level alpha\n",
    "    \"\"\"\n",
    "    if isinstance(returns, pd.Series):\n",
    "        belowVaR = returns <= mcVaR(returns, alpha=alpha)\n",
    "        return returns[belowVaR].mean()\n",
    "    else:\n",
    "        raise TypeError(\"Expected a pandas data series.\")"
   ]
  },
  {
   "cell_type": "code",
   "execution_count": null,
   "id": "fb0fe826",
   "metadata": {},
   "outputs": [],
   "source": [
    "portResults = pd.Series(portfolio_sims[-1,:])\n",
    "\n",
    "VaR = initialPortfolio - mcVaR(portResults, alpha=5)\n",
    "CVaR = initialPortfolio - mcCVaR(portResults, alpha=5)\n",
    "\n",
    "print('VaR {}'.format(round(VaR,2)))\n",
    "print('CVaR {}'.format(round(CVaR,2)))"
   ]
  },
  {
   "cell_type": "markdown",
   "id": "05f9a773",
   "metadata": {},
   "source": [
    "Comparison of each VaR & CVaR methods"
   ]
  },
  {
   "cell_type": "code",
   "execution_count": null,
   "id": "442f237f",
   "metadata": {},
   "outputs": [],
   "source": [
    "print(\"\\nVaR:\")\n",
    "\n",
    "print(' historical VaR 95th CI   :      ', round(InitialInvestment*hVaR,2))\n",
    "print(\" Normal VaR 95th CI       :      \", round(InitialInvestment*normVaR,2))\n",
    "print(\" t-dist VaR 95th CI       :      \", round(InitialInvestment*tVaR,2))\n",
    "print(\" MC VaR  95th CI          :      \", round(VaR,2))\n",
    "\n",
    "\n",
    "print(\"\\nCVaR:\")\n",
    "\n",
    "print(' historical CVaR 95th CI  :      ', round(InitialInvestment*hCVaR,2))\n",
    "print(\" Normal CVaR 95th CI      :      \", round(InitialInvestment*normCVaR,2))\n",
    "print(\" t-dist CVaR 95th CI      :      \", round(InitialInvestment*tCVaR,2))\n",
    "print(\" MC CVaR 95th CI          :      \", round(CVaR,2))"
   ]
  },
  {
   "cell_type": "code",
   "execution_count": null,
   "id": "fd0408e0",
   "metadata": {},
   "outputs": [],
   "source": []
  },
  {
   "cell_type": "code",
   "execution_count": null,
   "id": "487d74c6",
   "metadata": {},
   "outputs": [],
   "source": []
  }
 ],
 "metadata": {
  "kernelspec": {
   "display_name": "Python 3 (ipykernel)",
   "language": "python",
   "name": "python3"
  },
  "language_info": {
   "codemirror_mode": {
    "name": "ipython",
    "version": 3
   },
   "file_extension": ".py",
   "mimetype": "text/x-python",
   "name": "python",
   "nbconvert_exporter": "python",
   "pygments_lexer": "ipython3",
   "version": "3.9.12"
  }
 },
 "nbformat": 4,
 "nbformat_minor": 5
}
